{
 "cells": [
  {
   "cell_type": "markdown",
   "id": "b1527060-d767-4dfd-947f-f893b7b0a7e9",
   "metadata": {},
   "source": [
    "# Indice des prix à la consommation"
   ]
  },
  {
   "cell_type": "code",
   "execution_count": 1,
   "id": "a9238015-e0d4-4716-9625-1ec73dfd062a",
   "metadata": {},
   "outputs": [],
   "source": [
    "from datetime import datetime, timedelta\n",
    "\n",
    "from io import BytesIO\n",
    "from urllib.request import urlopen\n",
    "from zipfile import ZipFile\n",
    "\n",
    "from glob import glob\n",
    "\n",
    "import pandas as pd"
   ]
  },
  {
   "cell_type": "markdown",
   "id": "42fe2208-5806-4b7c-a499-166834e9e21f",
   "metadata": {},
   "source": [
    "## téléchargement"
   ]
  },
  {
   "cell_type": "code",
   "execution_count": 2,
   "id": "bf2857f0-5468-45ad-a15d-63ffc2e48eca",
   "metadata": {},
   "outputs": [
    {
     "data": {
      "text/plain": [
       "('2023', '6')"
      ]
     },
     "execution_count": 2,
     "metadata": {},
     "output_type": "execute_result"
    }
   ],
   "source": [
    "start_year = 1996\n",
    "start_month = 1\n",
    "\n",
    "last_month = (datetime.now().replace(day=1) - timedelta(days=1))\n",
    "\n",
    "end_year = last_month.strftime('%Y')\n",
    "end_month = last_month.strftime('%-m')\n",
    "\n",
    "(end_year, end_month)"
   ]
  },
  {
   "cell_type": "code",
   "execution_count": 3,
   "id": "db68b246-7ea6-4871-b7fb-8eac879bd158",
   "metadata": {},
   "outputs": [],
   "source": [
    "url = f\"https://www.insee.fr/fr/statistiques/serie/telecharger/xlsx/001762445?ordre=antechronologique&transposition=donneescolonne&periodeDebut={start_month}&anneeDebut={start_year}&periodeFin={end_month}&anneeFin={end_year}&revision=sansrevisions\""
   ]
  },
  {
   "cell_type": "code",
   "execution_count": null,
   "id": "8b3fbaba-df41-4887-9e24-8f801ee51e0d",
   "metadata": {},
   "outputs": [],
   "source": [
    "with urlopen(url) as zipresp:\n",
    "        with ZipFile(BytesIO(zipresp.read())) as zfile:\n",
    "            zfile.extractall('./tmp')"
   ]
  },
  {
   "cell_type": "markdown",
   "id": "41a6c8bd-e96c-4250-980e-9259348997a9",
   "metadata": {},
   "source": [
    "## chargement dans un dataframe"
   ]
  },
  {
   "cell_type": "code",
   "execution_count": 6,
   "id": "5c632aa3-bd80-4131-9240-369c506fe054",
   "metadata": {},
   "outputs": [
    {
     "name": "stderr",
     "output_type": "stream",
     "text": [
      "/home/tk/.virtualenvs/kitchen/lib/python3.10/site-packages/openpyxl/styles/stylesheet.py:226: UserWarning: Workbook contains no default style, apply openpyxl's default\n",
      "  warn(\"Workbook contains no default style, apply openpyxl's default\")\n"
     ]
    },
    {
     "data": {
      "text/html": [
       "<div>\n",
       "<style scoped>\n",
       "    .dataframe tbody tr th:only-of-type {\n",
       "        vertical-align: middle;\n",
       "    }\n",
       "\n",
       "    .dataframe tbody tr th {\n",
       "        vertical-align: top;\n",
       "    }\n",
       "\n",
       "    .dataframe thead th {\n",
       "        text-align: right;\n",
       "    }\n",
       "</style>\n",
       "<table border=\"1\" class=\"dataframe\">\n",
       "  <thead>\n",
       "    <tr style=\"text-align: right;\">\n",
       "      <th></th>\n",
       "      <th>ipc</th>\n",
       "    </tr>\n",
       "    <tr>\n",
       "      <th>date</th>\n",
       "      <th></th>\n",
       "    </tr>\n",
       "  </thead>\n",
       "  <tbody>\n",
       "    <tr>\n",
       "      <th>1996-01-01</th>\n",
       "      <td>72.80</td>\n",
       "    </tr>\n",
       "    <tr>\n",
       "      <th>1996-02-01</th>\n",
       "      <td>72.90</td>\n",
       "    </tr>\n",
       "    <tr>\n",
       "      <th>1996-03-01</th>\n",
       "      <td>73.60</td>\n",
       "    </tr>\n",
       "    <tr>\n",
       "      <th>1996-04-01</th>\n",
       "      <td>73.50</td>\n",
       "    </tr>\n",
       "    <tr>\n",
       "      <th>1996-05-01</th>\n",
       "      <td>74.20</td>\n",
       "    </tr>\n",
       "    <tr>\n",
       "      <th>...</th>\n",
       "      <td>...</td>\n",
       "    </tr>\n",
       "    <tr>\n",
       "      <th>2023-02-01</th>\n",
       "      <td>128.30</td>\n",
       "    </tr>\n",
       "    <tr>\n",
       "      <th>2023-03-01</th>\n",
       "      <td>130.76</td>\n",
       "    </tr>\n",
       "    <tr>\n",
       "      <th>2023-04-01</th>\n",
       "      <td>131.46</td>\n",
       "    </tr>\n",
       "    <tr>\n",
       "      <th>2023-05-01</th>\n",
       "      <td>131.88</td>\n",
       "    </tr>\n",
       "    <tr>\n",
       "      <th>2023-06-01</th>\n",
       "      <td>132.21</td>\n",
       "    </tr>\n",
       "  </tbody>\n",
       "</table>\n",
       "<p>330 rows × 1 columns</p>\n",
       "</div>"
      ],
      "text/plain": [
       "               ipc\n",
       "date              \n",
       "1996-01-01   72.80\n",
       "1996-02-01   72.90\n",
       "1996-03-01   73.60\n",
       "1996-04-01   73.50\n",
       "1996-05-01   74.20\n",
       "...            ...\n",
       "2023-02-01  128.30\n",
       "2023-03-01  130.76\n",
       "2023-04-01  131.46\n",
       "2023-05-01  131.88\n",
       "2023-06-01  132.21\n",
       "\n",
       "[330 rows x 1 columns]"
      ]
     },
     "execution_count": 6,
     "metadata": {},
     "output_type": "execute_result"
    }
   ],
   "source": [
    "ipc = (\n",
    "    pd.\n",
    "    read_excel(\n",
    "        glob('./tmp/*.xlsx')[0],\n",
    "        skiprows = 3,\n",
    "        names = ['date', 'ipc']\n",
    "    )\n",
    "    .assign(date = lambda df: pd.to_datetime(df.date))\n",
    "    .set_index('date')\n",
    "    .sort_index()\n",
    ")\n",
    "\n",
    "ipc"
   ]
  },
  {
   "cell_type": "markdown",
   "id": "6b5f9157-47f0-446e-a7ea-64fa6eac6b2e",
   "metadata": {},
   "source": [
    "## transformation en csv"
   ]
  },
  {
   "cell_type": "code",
   "execution_count": 7,
   "id": "14ab591b-bf1a-4b94-8a67-a53f715b807d",
   "metadata": {},
   "outputs": [],
   "source": [
    "ipc.to_csv('datasets/ipc.csv')"
   ]
  },
  {
   "cell_type": "code",
   "execution_count": null,
   "id": "36fe9357-e506-40a7-a617-d9d88475f1fa",
   "metadata": {},
   "outputs": [],
   "source": []
  }
 ],
 "metadata": {
  "kernelspec": {
   "display_name": "Python 3 (ipykernel)",
   "language": "python",
   "name": "python3"
  },
  "language_info": {
   "codemirror_mode": {
    "name": "ipython",
    "version": 3
   },
   "file_extension": ".py",
   "mimetype": "text/x-python",
   "name": "python",
   "nbconvert_exporter": "python",
   "pygments_lexer": "ipython3",
   "version": "3.10.6"
  }
 },
 "nbformat": 4,
 "nbformat_minor": 5
}
